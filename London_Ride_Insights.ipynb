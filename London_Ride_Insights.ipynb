{
 "cells": [
  {
   "cell_type": "markdown",
   "id": "b54083eb-972c-44a5-b9ea-ed69d7e21446",
   "metadata": {},
   "source": [
    ">Following the video: https://www.youtube.com/watch?v=nl9eZl1IOKI <br><br>\n",
    "Kaggle API documentation: https://www.kaggle.com/docs/api\n",
    "\n",
    "API authentication is required in order to _import kaggle_ module"
   ]
  },
  {
   "cell_type": "code",
   "execution_count": 1,
   "id": "875b9f84-751f-4553-847a-07ff0860aece",
   "metadata": {},
   "outputs": [],
   "source": [
    "# Uncomment the pip install code below if you haven't installed these libraries yet\n",
    "# !pip install pandas\n",
    "# !pip install zipfile\n",
    "# !pip install kaggle"
   ]
  },
  {
   "cell_type": "code",
   "execution_count": 2,
   "id": "ea877056-cd7f-489b-959a-1c1c9f488d4f",
   "metadata": {},
   "outputs": [],
   "source": [
    "# importing libraries\n",
    "import pandas as pd\n",
    "import numpy as np\n",
    "\n",
    "# to extract the file downloaded from Kaggle\n",
    "from zipfile import ZipFile\n",
    "\n",
    "# to download the dataset programatically from Kaggle\n",
    "import kaggle"
   ]
  },
  {
   "cell_type": "code",
   "execution_count": 3,
   "id": "483109b0-8a6d-4c79-9fcb-8eb794314cf7",
   "metadata": {},
   "outputs": [
    {
     "name": "stdout",
     "output_type": "stream",
     "text": [
      "london-bike-sharing-dataset.zip: Skipping, found more recently modified local copy (use --force to force download)\n"
     ]
    }
   ],
   "source": [
    "# download dataset from kaggle using the Kaggle API\n",
    "\n",
    "!kaggle datasets download -d hmavrodiev/london-bike-sharing-dataset"
   ]
  },
  {
   "cell_type": "markdown",
   "id": "3e3ca32b-2697-4e82-aeeb-ae7ff992811b",
   "metadata": {},
   "source": [
    "## Importing the Dataset"
   ]
  },
  {
   "cell_type": "code",
   "execution_count": 4,
   "id": "2ed7041e-58e7-4c70-8722-ae0a2e38983e",
   "metadata": {},
   "outputs": [],
   "source": [
    "# extracting the dataset from the imported zip file\n",
    "\n",
    "with ZipFile('london-bike-sharing-dataset.zip', 'r') as file:\n",
    "    file.extractall()\n"
   ]
  },
  {
   "cell_type": "code",
   "execution_count": 5,
   "id": "304b4596-2680-4590-a545-3e01c59392b7",
   "metadata": {},
   "outputs": [],
   "source": [
    "# importing the csv file\n",
    "\n",
    "rides = pd.read_csv('london_merged.csv')"
   ]
  },
  {
   "cell_type": "markdown",
   "id": "84e8d0d5-1465-40b2-b856-2b774a43998f",
   "metadata": {},
   "source": [
    "## Data Exploaration"
   ]
  },
  {
   "cell_type": "code",
   "execution_count": 6,
   "id": "570d4d15-1745-4d52-b588-ddb75a54de58",
   "metadata": {},
   "outputs": [
    {
     "data": {
      "text/html": [
       "<div>\n",
       "<style scoped>\n",
       "    .dataframe tbody tr th:only-of-type {\n",
       "        vertical-align: middle;\n",
       "    }\n",
       "\n",
       "    .dataframe tbody tr th {\n",
       "        vertical-align: top;\n",
       "    }\n",
       "\n",
       "    .dataframe thead th {\n",
       "        text-align: right;\n",
       "    }\n",
       "</style>\n",
       "<table border=\"1\" class=\"dataframe\">\n",
       "  <thead>\n",
       "    <tr style=\"text-align: right;\">\n",
       "      <th></th>\n",
       "      <th>timestamp</th>\n",
       "      <th>cnt</th>\n",
       "      <th>t1</th>\n",
       "      <th>t2</th>\n",
       "      <th>hum</th>\n",
       "      <th>wind_speed</th>\n",
       "      <th>weather_code</th>\n",
       "      <th>is_holiday</th>\n",
       "      <th>is_weekend</th>\n",
       "      <th>season</th>\n",
       "    </tr>\n",
       "  </thead>\n",
       "  <tbody>\n",
       "    <tr>\n",
       "      <th>0</th>\n",
       "      <td>2015-01-04 00:00:00</td>\n",
       "      <td>182</td>\n",
       "      <td>3.0</td>\n",
       "      <td>2.0</td>\n",
       "      <td>93.0</td>\n",
       "      <td>6.0</td>\n",
       "      <td>3.0</td>\n",
       "      <td>0.0</td>\n",
       "      <td>1.0</td>\n",
       "      <td>3.0</td>\n",
       "    </tr>\n",
       "    <tr>\n",
       "      <th>1</th>\n",
       "      <td>2015-01-04 01:00:00</td>\n",
       "      <td>138</td>\n",
       "      <td>3.0</td>\n",
       "      <td>2.5</td>\n",
       "      <td>93.0</td>\n",
       "      <td>5.0</td>\n",
       "      <td>1.0</td>\n",
       "      <td>0.0</td>\n",
       "      <td>1.0</td>\n",
       "      <td>3.0</td>\n",
       "    </tr>\n",
       "    <tr>\n",
       "      <th>2</th>\n",
       "      <td>2015-01-04 02:00:00</td>\n",
       "      <td>134</td>\n",
       "      <td>2.5</td>\n",
       "      <td>2.5</td>\n",
       "      <td>96.5</td>\n",
       "      <td>0.0</td>\n",
       "      <td>1.0</td>\n",
       "      <td>0.0</td>\n",
       "      <td>1.0</td>\n",
       "      <td>3.0</td>\n",
       "    </tr>\n",
       "    <tr>\n",
       "      <th>3</th>\n",
       "      <td>2015-01-04 03:00:00</td>\n",
       "      <td>72</td>\n",
       "      <td>2.0</td>\n",
       "      <td>2.0</td>\n",
       "      <td>100.0</td>\n",
       "      <td>0.0</td>\n",
       "      <td>1.0</td>\n",
       "      <td>0.0</td>\n",
       "      <td>1.0</td>\n",
       "      <td>3.0</td>\n",
       "    </tr>\n",
       "    <tr>\n",
       "      <th>4</th>\n",
       "      <td>2015-01-04 04:00:00</td>\n",
       "      <td>47</td>\n",
       "      <td>2.0</td>\n",
       "      <td>0.0</td>\n",
       "      <td>93.0</td>\n",
       "      <td>6.5</td>\n",
       "      <td>1.0</td>\n",
       "      <td>0.0</td>\n",
       "      <td>1.0</td>\n",
       "      <td>3.0</td>\n",
       "    </tr>\n",
       "  </tbody>\n",
       "</table>\n",
       "</div>"
      ],
      "text/plain": [
       "             timestamp  cnt   t1   t2    hum  wind_speed  weather_code  \\\n",
       "0  2015-01-04 00:00:00  182  3.0  2.0   93.0         6.0           3.0   \n",
       "1  2015-01-04 01:00:00  138  3.0  2.5   93.0         5.0           1.0   \n",
       "2  2015-01-04 02:00:00  134  2.5  2.5   96.5         0.0           1.0   \n",
       "3  2015-01-04 03:00:00   72  2.0  2.0  100.0         0.0           1.0   \n",
       "4  2015-01-04 04:00:00   47  2.0  0.0   93.0         6.5           1.0   \n",
       "\n",
       "   is_holiday  is_weekend  season  \n",
       "0         0.0         1.0     3.0  \n",
       "1         0.0         1.0     3.0  \n",
       "2         0.0         1.0     3.0  \n",
       "3         0.0         1.0     3.0  \n",
       "4         0.0         1.0     3.0  "
      ]
     },
     "execution_count": 6,
     "metadata": {},
     "output_type": "execute_result"
    }
   ],
   "source": [
    "rides.head()"
   ]
  },
  {
   "cell_type": "code",
   "execution_count": 7,
   "id": "86f0df09-5a6b-4f08-8345-2a55ac4c18ef",
   "metadata": {},
   "outputs": [
    {
     "name": "stdout",
     "output_type": "stream",
     "text": [
      " shape of data: (17414, 10)\n",
      "\n",
      " number of columns: 10\n",
      "\n",
      " ['timestamp', 'cnt', 't1', 't2', 'hum', 'wind_speed', 'weather_code', 'is_holiday', 'is_weekend', 'season']\n"
     ]
    }
   ],
   "source": [
    "# Listing the columns\n",
    "\n",
    "coln = len(list(rides.columns))\n",
    "shape = rides.shape\n",
    "cols = list(rides.columns)\n",
    "\n",
    "print(f' shape of data: {shape}\\n\\n number of columns: {coln}\\n\\n {cols}')\n"
   ]
  },
  {
   "cell_type": "code",
   "execution_count": 8,
   "id": "d5d842e2-d9f1-423d-8e76-890440b36f2b",
   "metadata": {},
   "outputs": [
    {
     "name": "stdout",
     "output_type": "stream",
     "text": [
      "<class 'pandas.core.frame.DataFrame'>\n",
      "RangeIndex: 17414 entries, 0 to 17413\n",
      "Data columns (total 10 columns):\n",
      " #   Column        Non-Null Count  Dtype  \n",
      "---  ------        --------------  -----  \n",
      " 0   timestamp     17414 non-null  object \n",
      " 1   cnt           17414 non-null  int64  \n",
      " 2   t1            17414 non-null  float64\n",
      " 3   t2            17414 non-null  float64\n",
      " 4   hum           17414 non-null  float64\n",
      " 5   wind_speed    17414 non-null  float64\n",
      " 6   weather_code  17414 non-null  float64\n",
      " 7   is_holiday    17414 non-null  float64\n",
      " 8   is_weekend    17414 non-null  float64\n",
      " 9   season        17414 non-null  float64\n",
      "dtypes: float64(8), int64(1), object(1)\n",
      "memory usage: 1.3+ MB\n"
     ]
    }
   ],
   "source": [
    "# Checking for non-null values\n",
    "\n",
    "rides.info()"
   ]
  },
  {
   "cell_type": "code",
   "execution_count": 9,
   "id": "5d404e28-8353-4dec-b8f2-67da411b8961",
   "metadata": {},
   "outputs": [
    {
     "data": {
      "text/plain": [
       "timestamp       17414\n",
       "cnt              3781\n",
       "t1                 73\n",
       "t2                 82\n",
       "hum               143\n",
       "wind_speed        103\n",
       "weather_code        7\n",
       "is_holiday          2\n",
       "is_weekend          2\n",
       "season              4\n",
       "dtype: int64"
      ]
     },
     "execution_count": 9,
     "metadata": {},
     "output_type": "execute_result"
    }
   ],
   "source": [
    "# Counting the number of unique values in each column\n",
    "\n",
    "rides.nunique()"
   ]
  },
  {
   "cell_type": "code",
   "execution_count": 10,
   "id": "99fa9e88-e4e9-47e6-9e0d-d7ad81315b59",
   "metadata": {},
   "outputs": [
    {
     "name": "stdout",
     "output_type": "stream",
     "text": [
      "weather_code: [1.0, 2.0, 3.0, 4.0, 7.0, 10.0, 26.0]\n",
      "\n",
      "season: [0.0, 1.0, 2.0, 3.0]\n"
     ]
    }
   ],
   "source": [
    "# Printing the unique values of 'weather_code' and 'season'\n",
    "\n",
    "wc = list(np.sort(rides['weather_code'].unique()))\n",
    "sson = list(np.sort(rides['season'].unique()))\n",
    "\n",
    "print(f'weather_code: {wc}',\n",
    "      f'season: {sson}', sep='\\n\\n')"
   ]
  },
  {
   "cell_type": "code",
   "execution_count": 11,
   "id": "871cc752-8c96-4eaf-beaf-4979d0b3ffed",
   "metadata": {},
   "outputs": [
    {
     "name": "stdout",
     "output_type": "stream",
     "text": [
      "weather_code\n",
      "1.0     6150\n",
      "2.0     4034\n",
      "3.0     3551\n",
      "7.0     2141\n",
      "4.0     1464\n",
      "26.0      60\n",
      "10.0      14\n",
      "Name: count, dtype: int64\n",
      "\n",
      "season\n",
      "0.0    4394\n",
      "1.0    4387\n",
      "3.0    4330\n",
      "2.0    4303\n",
      "Name: count, dtype: int64\n"
     ]
    }
   ],
   "source": [
    "# Count of each unique value in the columns 'weather_code' and 'season'\n",
    "\n",
    "print(rides['weather_code'].value_counts(), end='\\n\\n')\n",
    "print(rides['season'].value_counts())"
   ]
  },
  {
   "cell_type": "code",
   "execution_count": 12,
   "id": "4f3c9e5a-63b2-497a-ac70-4353ff638850",
   "metadata": {},
   "outputs": [
    {
     "data": {
      "text/plain": [
       "timestamp       0\n",
       "cnt             0\n",
       "t1              0\n",
       "t2              0\n",
       "hum             0\n",
       "wind_speed      0\n",
       "weather_code    0\n",
       "is_holiday      0\n",
       "is_weekend      0\n",
       "season          0\n",
       "dtype: int64"
      ]
     },
     "execution_count": 12,
     "metadata": {},
     "output_type": "execute_result"
    }
   ],
   "source": [
    "# Checking for null values\n",
    "\n",
    "rides.isnull().sum()"
   ]
  },
  {
   "cell_type": "code",
   "execution_count": 13,
   "id": "762d159f-87bc-4d67-bd62-0c9b818bc100",
   "metadata": {},
   "outputs": [
    {
     "data": {
      "text/plain": [
       "Index(['timestamp', 'cnt', 't1', 't2', 'hum', 'wind_speed', 'weather_code',\n",
       "       'is_holiday', 'is_weekend', 'season'],\n",
       "      dtype='object')"
      ]
     },
     "execution_count": 13,
     "metadata": {},
     "output_type": "execute_result"
    }
   ],
   "source": [
    "rides.columns"
   ]
  },
  {
   "cell_type": "code",
   "execution_count": 14,
   "id": "12c84065-dd31-43e0-8bdc-cd4c5ce6af99",
   "metadata": {},
   "outputs": [
    {
     "name": "stdout",
     "output_type": "stream",
     "text": [
      "Index(['time', 'count', 'temp_in_c', 'temp_feels_like_c', 'humidity',\n",
      "       'wind_kph', 'weather', 'is_holiday', 'is_weekend', 'season'],\n",
      "      dtype='object')\n"
     ]
    }
   ],
   "source": [
    "# Defining new column dictionary\n",
    "\n",
    "col_name = {\n",
    "    'timestamp':'time',\n",
    "    'cnt':'count', \n",
    "    't1':'temp_in_c', \n",
    "    't2':'temp_feels_like_c', \n",
    "    'hum':'humidity', \n",
    "    'wind_speed':'wind_kph', \n",
    "    'weather_code':'weather',\n",
    "}\n",
    "\n",
    "# Renaming columns\n",
    "\n",
    "rides.rename(col_name, axis=1, inplace=True)\n",
    "\n",
    "print(rides.columns)"
   ]
  },
  {
   "cell_type": "code",
   "execution_count": 15,
   "id": "acbb6297-5733-4a15-9ae2-4fcf42af6878",
   "metadata": {},
   "outputs": [],
   "source": [
    "# Mapping seasons code to corresponding seasons\n",
    "\n",
    "season_name = {\n",
    "    '0.0':'spring',\n",
    "    '1.0':'summer',\n",
    "    '2.0':'fall',\n",
    "    '3.0':'winter'\n",
    "}\n",
    "\n",
    "# Converting season column type to string for mapping\n",
    "\n",
    "rides.season = rides.season.astype('str')\n",
    "\n",
    "# Mapping\n",
    "\n",
    "rides.season = rides.season.map(season_name)"
   ]
  },
  {
   "cell_type": "code",
   "execution_count": 16,
   "id": "61402e55-300e-451b-8f51-6ce18e15da20",
   "metadata": {},
   "outputs": [],
   "source": [
    "# Mapping weather code to corresponding weather\n",
    "\n",
    "season_name = {\n",
    "    '1.0':'Clear',\n",
    "    '2.0':'Scattered clouds',\n",
    "    '3.0':'Broken clouds',\n",
    "    '4.0':'Cloudy',\n",
    "    '7.0':'Rain',\n",
    "    '10.0':'Rain with thunderstorm',\n",
    "    '26.0':'Snowfall'\n",
    "}\n",
    "\n",
    "# Converting season column type to string for mapping\n",
    "\n",
    "rides.weather = rides.weather.astype('str')\n",
    "\n",
    "# Mapping\n",
    "\n",
    "rides.weather = rides.weather.map(season_name)"
   ]
  },
  {
   "cell_type": "code",
   "execution_count": 17,
   "id": "539b7790-0712-452e-8ab2-e1bdc30f2356",
   "metadata": {},
   "outputs": [
    {
     "data": {
      "text/html": [
       "<div>\n",
       "<style scoped>\n",
       "    .dataframe tbody tr th:only-of-type {\n",
       "        vertical-align: middle;\n",
       "    }\n",
       "\n",
       "    .dataframe tbody tr th {\n",
       "        vertical-align: top;\n",
       "    }\n",
       "\n",
       "    .dataframe thead th {\n",
       "        text-align: right;\n",
       "    }\n",
       "</style>\n",
       "<table border=\"1\" class=\"dataframe\">\n",
       "  <thead>\n",
       "    <tr style=\"text-align: right;\">\n",
       "      <th></th>\n",
       "      <th>weather</th>\n",
       "      <th>season</th>\n",
       "    </tr>\n",
       "  </thead>\n",
       "  <tbody>\n",
       "    <tr>\n",
       "      <th>0</th>\n",
       "      <td>Broken clouds</td>\n",
       "      <td>winter</td>\n",
       "    </tr>\n",
       "    <tr>\n",
       "      <th>1</th>\n",
       "      <td>Clear</td>\n",
       "      <td>winter</td>\n",
       "    </tr>\n",
       "    <tr>\n",
       "      <th>2</th>\n",
       "      <td>Clear</td>\n",
       "      <td>winter</td>\n",
       "    </tr>\n",
       "    <tr>\n",
       "      <th>3</th>\n",
       "      <td>Clear</td>\n",
       "      <td>winter</td>\n",
       "    </tr>\n",
       "    <tr>\n",
       "      <th>4</th>\n",
       "      <td>Clear</td>\n",
       "      <td>winter</td>\n",
       "    </tr>\n",
       "  </tbody>\n",
       "</table>\n",
       "</div>"
      ],
      "text/plain": [
       "         weather  season\n",
       "0  Broken clouds  winter\n",
       "1          Clear  winter\n",
       "2          Clear  winter\n",
       "3          Clear  winter\n",
       "4          Clear  winter"
      ]
     },
     "execution_count": 17,
     "metadata": {},
     "output_type": "execute_result"
    }
   ],
   "source": [
    "# Checking if mapping was a success\n",
    "\n",
    "rides.loc[:,['weather','season']].head()"
   ]
  },
  {
   "cell_type": "code",
   "execution_count": 18,
   "id": "22ff79ac-6567-42a0-a968-e303c3417069",
   "metadata": {},
   "outputs": [],
   "source": [
    "# Writing the final dataframe to an excel file for Tableau visualisations\n",
    "# Filename : 'london_bikes_final.xlsx'\n",
    "# Sheet name : 'Data'\n",
    "\n",
    "# pip install openpyxl\n",
    "import openpyxl\n",
    "\n",
    "rides.to_excel('london_ride_insights_final.xlsx', sheet_name='Data')"
   ]
  },
  {
   "cell_type": "code",
   "execution_count": null,
   "id": "9ceea5ab-3665-4efe-bec3-9d60ac02004c",
   "metadata": {},
   "outputs": [],
   "source": []
  }
 ],
 "metadata": {
  "kernelspec": {
   "display_name": "Python 3 (ipykernel)",
   "language": "python",
   "name": "python3"
  },
  "language_info": {
   "codemirror_mode": {
    "name": "ipython",
    "version": 3
   },
   "file_extension": ".py",
   "mimetype": "text/x-python",
   "name": "python",
   "nbconvert_exporter": "python",
   "pygments_lexer": "ipython3",
   "version": "3.11.5"
  }
 },
 "nbformat": 4,
 "nbformat_minor": 5
}
